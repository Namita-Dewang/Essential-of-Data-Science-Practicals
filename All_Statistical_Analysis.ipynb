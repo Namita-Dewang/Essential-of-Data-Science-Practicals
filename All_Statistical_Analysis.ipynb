{
  "nbformat": 4,
  "nbformat_minor": 0,
  "metadata": {
    "colab": {
      "provenance": []
    },
    "kernelspec": {
      "name": "python3",
      "display_name": "Python 3"
    },
    "language_info": {
      "name": "python"
    }
  },
  "cells": [
    {
      "cell_type": "code",
      "execution_count": null,
      "metadata": {
        "colab": {
          "base_uri": "https://localhost:8080/"
        },
        "id": "s4_ynN6yyqRe",
        "outputId": "72b34ac9-e4a1-4c07-df79-ed003ebfb4c2"
      },
      "outputs": [
        {
          "output_type": "stream",
          "name": "stdout",
          "text": [
            "Mounted at /content/drive\n"
          ]
        }
      ],
      "source": [
        "from google.colab import drive\n",
        "drive.mount('/content/drive')"
      ]
    },
    {
      "cell_type": "code",
      "source": [
        "import csv"
      ],
      "metadata": {
        "id": "REN_NMcKy2Xa"
      },
      "execution_count": null,
      "outputs": []
    },
    {
      "cell_type": "code",
      "source": [
        "# Read Student Info File\n",
        "file=open('drive/My Drive/Colab Notebooks/stud_info.csv','r')\n",
        "info_dataset=[]\n",
        "while True:\n",
        "   data=file.readline()\n",
        "   if data:\n",
        "       info_dataset.append(data.replace(\"\\n\", \"\").split(','))\n",
        "   else:\n",
        "     break\n",
        "print(info_dataset)"
      ],
      "metadata": {
        "colab": {
          "base_uri": "https://localhost:8080/"
        },
        "id": "dNP5RTrty524",
        "outputId": "0f8ed66b-a9e3-417c-b38b-80d048150e0a"
      },
      "execution_count": null,
      "outputs": [
        {
          "output_type": "stream",
          "name": "stdout",
          "text": [
            "[['Roll No', 'name', 'Gender', 'DOB'], ['1', 'John', 'Male', '05-04-1988'], ['2', 'Mayur', 'Male', '04-05-1987'], ['3', 'Mangesh', 'Male', '25-05-1989'], ['4', 'Jessica', 'Female', '12-08-1990'], ['5', 'Jennifer', 'Female', '02-09-1989'], ['6', 'Ramesh', 'Male', '03-09-1989'], ['7', 'Suresh', 'Male', '04-09-1990'], ['8', 'Ganesh', 'Male', '05-10-1989'], ['9', 'Komal', 'Female', '06-09-1989'], ['10', 'Mayuri', 'Female', '07-02-1988']]\n"
          ]
        }
      ]
    },
    {
      "cell_type": "code",
      "source": [
        "RollNo=[]\n",
        "Name=[]\n",
        "Gender=[]\n",
        "DOB=[]\n"
      ],
      "metadata": {
        "id": "jR5DK2yfzs_n"
      },
      "execution_count": null,
      "outputs": []
    },
    {
      "cell_type": "code",
      "source": [
        "for row in info_dataset[1:]:\n",
        "    RollNo.append(row[0])\n",
        "    Name.append(row[1])\n",
        "    Gender.append(row[2])\n",
        "    DOB.append(row[3])"
      ],
      "metadata": {
        "id": "OuO3MK50z0Gu"
      },
      "execution_count": null,
      "outputs": []
    },
    {
      "cell_type": "code",
      "source": [
        "print(RollNo)\n",
        "print(Name)\n",
        "print(Gender)\n",
        "print(DOB)"
      ],
      "metadata": {
        "colab": {
          "base_uri": "https://localhost:8080/"
        },
        "id": "0hfZhW4O0Bxo",
        "outputId": "72b04994-7f73-4851-8c03-c008bd99bb02"
      },
      "execution_count": null,
      "outputs": [
        {
          "output_type": "stream",
          "name": "stdout",
          "text": [
            "['1', '2', '3', '4', '5', '6', '7', '8', '9', '10']\n",
            "['John', 'Mayur', 'Mangesh', 'Jessica', 'Jennifer', 'Ramesh', 'Suresh', 'Ganesh', 'Komal', 'Mayuri']\n",
            "['Male', 'Male', 'Male', 'Female', 'Female', 'Male', 'Male', 'Male', 'Female', 'Female']\n",
            "['05-04-1988', '04-05-1987', '25-05-1989', '12-08-1990', '02-09-1989', '03-09-1989', '04-09-1990', '05-10-1989', '06-09-1989', '07-02-1988']\n"
          ]
        }
      ]
    },
    {
      "cell_type": "code",
      "source": [
        "#. Read Student Marks\n",
        "file=open('drive/My Drive/Colab Notebooks/students_marks.csv','r')\n",
        "marks_dataset=[]\n",
        "while True:\n",
        "    data=file.readline()\n",
        "    if data:\n",
        "        marks_dataset.append(data.replace(\"\\n\", \"\").split(','))\n",
        "    else:\n",
        "        break\n",
        "print(marks_dataset)"
      ],
      "metadata": {
        "colab": {
          "base_uri": "https://localhost:8080/"
        },
        "id": "DDuSLn9u0HaJ",
        "outputId": "8c8b08d6-b727-49e1-89b5-153a4e0e7faa"
      },
      "execution_count": null,
      "outputs": [
        {
          "output_type": "stream",
          "name": "stdout",
          "text": [
            "[['Roll', 'Maths', 'Physics', 'Chemistry', 'Total', 'Percentage'], ['1', '55', '45', '56', '156', '52.00'], ['2', '75', '55', '55', '185', '61.67'], ['3', '25', '54', '89', '168', '56.00'], ['4', '78', '55', '86', '219', '73.00'], ['5', '58', '96', '78', '232', '77.33'], ['6', '88', '78', '58', '224', '74.67'], ['7', '56', '89', '69', '214', '71.33'], ['8', '54', '55', '88', '197', '65.67'], ['9', '46', '66', '65', '177', '59.00'], ['10', '89', '87', '54', '230', '76.67']]\n"
          ]
        }
      ]
    },
    {
      "cell_type": "code",
      "source": [
        "Maths=[]\n",
        "Physics=[]\n",
        "Chemistry=[]\n",
        "Total=[]\n",
        "Percentage=[]"
      ],
      "metadata": {
        "id": "KW0lxapI0s1j"
      },
      "execution_count": null,
      "outputs": []
    },
    {
      "cell_type": "code",
      "source": [
        "for row in marks_dataset[1:]:\n",
        "    Maths.append(row[1])\n",
        "    Physics.append(row[2])\n",
        "    Chemistry.append(row[3])\n",
        "    Total.append(row[4])\n",
        "    Percentage.append(row[5])"
      ],
      "metadata": {
        "id": "7XFlWNxt0uQl"
      },
      "execution_count": null,
      "outputs": []
    },
    {
      "cell_type": "code",
      "source": [
        "print(Maths)\n",
        "print(Physics)\n",
        "print(Chemistry)\n",
        "print(Total)\n",
        "print(Percentage)\n"
      ],
      "metadata": {
        "colab": {
          "base_uri": "https://localhost:8080/"
        },
        "id": "HkVbQhQ806lI",
        "outputId": "eb49b69a-4f81-42de-cf69-b63eb41a8fc0"
      },
      "execution_count": null,
      "outputs": [
        {
          "output_type": "stream",
          "name": "stdout",
          "text": [
            "['55', '75', '25', '78', '58', '88', '56', '54', '46', '89']\n",
            "['45', '55', '54', '55', '96', '78', '89', '55', '66', '87']\n",
            "['56', '55', '89', '86', '78', '58', '69', '88', '65', '54']\n",
            "['156', '185', '168', '219', '232', '224', '214', '197', '177', '230']\n",
            "['52.00', '61.67', '56.00', '73.00', '77.33', '74.67', '71.33', '65.67', '59.00', '76.67']\n"
          ]
        }
      ]
    },
    {
      "cell_type": "code",
      "source": [
        "# Read Student Placement File\n",
        "file=open('drive/My Drive/Colab Notebooks/stud_placement.csv','r')\n",
        "placement_dataset=[]\n",
        "while True:\n",
        "    data=file.readline()\n",
        "    if data:\n",
        "        placement_dataset.append(data.replace(\"\\n\", \"\").split(','))\n",
        "    else:\n",
        "        break\n",
        "print(placement_dataset)"
      ],
      "metadata": {
        "colab": {
          "base_uri": "https://localhost:8080/"
        },
        "id": "h0cgA6np1Au6",
        "outputId": "0e578818-9c7f-49a6-9bfa-10fe5b97162f"
      },
      "execution_count": null,
      "outputs": [
        {
          "output_type": "stream",
          "name": "stdout",
          "text": [
            "[['Roll No', 'Company', 'JobRole', 'Package'], ['1', 'Infosys', 'Data Analyst', '10.2'], ['2', 'TCS', 'Java Developer', '9.6'], ['3', 'TCS', 'Data Scientist', '12.60'], ['4', 'Infosys', 'Data Analyst', '10.2'], ['5', 'Oracle', 'Java Developer', '9.6'], ['6', 'Oracle', 'Data Scientist', '12.60'], ['7', 'TCS', 'Tester', '6.50'], ['8', 'Infosys', 'Tester', '6.51'], ['9', 'Mindtree', 'Database Admin', '8.30'], ['10', 'Mindtree', 'Database Admin', '8.31']]\n"
          ]
        }
      ]
    },
    {
      "cell_type": "code",
      "source": [
        "Company=[]\n",
        "JobRole=[]\n",
        "Package=[]\n",
        "for row in placement_dataset[1:]:\n",
        "    Company.append(row[1])\n",
        "    JobRole.append(row[2])\n",
        "    Package.append(row[3])\n",
        "print(Company)\n",
        "print(JobRole)\n",
        "print(Package)\n"
      ],
      "metadata": {
        "colab": {
          "base_uri": "https://localhost:8080/"
        },
        "id": "kLxuXDB01AWj",
        "outputId": "ee6fb7fc-4f73-4cef-8a7c-cb8bcf6e3a7d"
      },
      "execution_count": null,
      "outputs": [
        {
          "output_type": "stream",
          "name": "stdout",
          "text": [
            "['Infosys', 'TCS', 'TCS', 'Infosys', 'Oracle', 'Oracle', 'TCS', 'Infosys', 'Mindtree', 'Mindtree']\n",
            "['Data Analyst', 'Java Developer', 'Data Scientist', 'Data Analyst', 'Java Developer', 'Data Scientist', 'Tester', 'Tester', 'Database Admin', 'Database Admin']\n",
            "['10.2', '9.6', '12.60', '10.2', '9.6', '12.60', '6.50', '6.51', '8.30', '8.31']\n"
          ]
        }
      ]
    },
    {
      "cell_type": "code",
      "source": [
        "studentdata=[]\n",
        "studentdata.append(RollNo)\n",
        "studentdata.append(Name)\n",
        "studentdata.append(Gender)\n",
        "studentdata.append(DOB)\n",
        "studentdata.append(Maths)\n",
        "studentdata.append(Physics)\n",
        "studentdata.append(Chemistry)\n",
        "studentdata.append(Total)\n",
        "studentdata.append(Percentage)\n",
        "studentdata.append(Company)\n",
        "studentdata.append(JobRole)\n",
        "studentdata.append(Package)\n",
        "studentdata"
      ],
      "metadata": {
        "colab": {
          "base_uri": "https://localhost:8080/"
        },
        "id": "Gq5dd-1i1qJ0",
        "outputId": "0cf750b0-94b4-4cd7-a834-4b7616369ec7"
      },
      "execution_count": null,
      "outputs": [
        {
          "output_type": "execute_result",
          "data": {
            "text/plain": [
              "[['1', '2', '3', '4', '5', '6', '7', '8', '9', '10'],\n",
              " ['John',\n",
              "  'Mayur',\n",
              "  'Mangesh',\n",
              "  'Jessica',\n",
              "  'Jennifer',\n",
              "  'Ramesh',\n",
              "  'Suresh',\n",
              "  'Ganesh',\n",
              "  'Komal',\n",
              "  'Mayuri'],\n",
              " ['Male',\n",
              "  'Male',\n",
              "  'Male',\n",
              "  'Female',\n",
              "  'Female',\n",
              "  'Male',\n",
              "  'Male',\n",
              "  'Male',\n",
              "  'Female',\n",
              "  'Female'],\n",
              " ['05-04-1988',\n",
              "  '04-05-1987',\n",
              "  '25-05-1989',\n",
              "  '12-08-1990',\n",
              "  '02-09-1989',\n",
              "  '03-09-1989',\n",
              "  '04-09-1990',\n",
              "  '05-10-1989',\n",
              "  '06-09-1989',\n",
              "  '07-02-1988'],\n",
              " ['55', '75', '25', '78', '58', '88', '56', '54', '46', '89'],\n",
              " ['45', '55', '54', '55', '96', '78', '89', '55', '66', '87'],\n",
              " ['56', '55', '89', '86', '78', '58', '69', '88', '65', '54'],\n",
              " ['156', '185', '168', '219', '232', '224', '214', '197', '177', '230'],\n",
              " ['52.00',\n",
              "  '61.67',\n",
              "  '56.00',\n",
              "  '73.00',\n",
              "  '77.33',\n",
              "  '74.67',\n",
              "  '71.33',\n",
              "  '65.67',\n",
              "  '59.00',\n",
              "  '76.67'],\n",
              " ['Infosys',\n",
              "  'TCS',\n",
              "  'TCS',\n",
              "  'Infosys',\n",
              "  'Oracle',\n",
              "  'Oracle',\n",
              "  'TCS',\n",
              "  'Infosys',\n",
              "  'Mindtree',\n",
              "  'Mindtree'],\n",
              " ['Data Analyst',\n",
              "  'Java Developer',\n",
              "  'Data Scientist',\n",
              "  'Data Analyst',\n",
              "  'Java Developer',\n",
              "  'Data Scientist',\n",
              "  'Tester',\n",
              "  'Tester',\n",
              "  'Database Admin',\n",
              "  'Database Admin'],\n",
              " ['10.2',\n",
              "  '9.6',\n",
              "  '12.60',\n",
              "  '10.2',\n",
              "  '9.6',\n",
              "  '12.60',\n",
              "  '6.50',\n",
              "  '6.51',\n",
              "  '8.30',\n",
              "  '8.31']]"
            ]
          },
          "metadata": {},
          "execution_count": 20
        }
      ]
    },
    {
      "cell_type": "code",
      "source": [
        "#Writing Data to New File\n",
        "fw=open(\"drive/My Drive/Colab Notebooks/StudentDetails.csv\",\"w\")\n",
        "data_to_write=[]\n",
        "for i in range(len(studentdata[0])):# 10 rows\n",
        "    row=list()\n",
        "    for j in range(len(studentdata)):#12 col\n",
        "        data=studentdata[j][i]\n",
        "        row.append(data)\n",
        "    row.append('\\n')\n",
        "    data_to_write.append(\",\".join(row))"
      ],
      "metadata": {
        "id": "mBCj1Wm_14hn"
      },
      "execution_count": null,
      "outputs": []
    },
    {
      "cell_type": "code",
      "source": [
        "data_to_write"
      ],
      "metadata": {
        "colab": {
          "base_uri": "https://localhost:8080/"
        },
        "id": "NXcNSWTF2e4p",
        "outputId": "de28bd7e-ff3b-44aa-ca7d-e239dc34fe38"
      },
      "execution_count": null,
      "outputs": [
        {
          "output_type": "execute_result",
          "data": {
            "text/plain": [
              "['1,John,Male,05-04-1988,55,45,56,156,52.00,Infosys,Data Analyst,10.2,\\n',\n",
              " '2,Mayur,Male,04-05-1987,75,55,55,185,61.67,TCS,Java Developer,9.6,\\n',\n",
              " '3,Mangesh,Male,25-05-1989,25,54,89,168,56.00,TCS,Data Scientist,12.60,\\n',\n",
              " '4,Jessica,Female,12-08-1990,78,55,86,219,73.00,Infosys,Data Analyst,10.2,\\n',\n",
              " '5,Jennifer,Female,02-09-1989,58,96,78,232,77.33,Oracle,Java Developer,9.6,\\n',\n",
              " '6,Ramesh,Male,03-09-1989,88,78,58,224,74.67,Oracle,Data Scientist,12.60,\\n',\n",
              " '7,Suresh,Male,04-09-1990,56,89,69,214,71.33,TCS,Tester,6.50,\\n',\n",
              " '8,Ganesh,Male,05-10-1989,54,55,88,197,65.67,Infosys,Tester,6.51,\\n',\n",
              " '9,Komal,Female,06-09-1989,46,66,65,177,59.00,Mindtree,Database Admin,8.30,\\n',\n",
              " '10,Mayuri,Female,07-02-1988,89,87,54,230,76.67,Mindtree,Database Admin,8.31,\\n']"
            ]
          },
          "metadata": {},
          "execution_count": 22
        }
      ]
    },
    {
      "cell_type": "code",
      "source": [
        "fw.writelines(data_to_write)\n",
        "fw.close()"
      ],
      "metadata": {
        "id": "ECYQEwn_2jr6"
      },
      "execution_count": null,
      "outputs": []
    },
    {
      "cell_type": "code",
      "source": [
        "# Statistical Operation\n",
        "print(\"Math Marks=\",Maths)\n",
        "print(\"Phyics Marks=\",Physics)\n",
        "print(\"Chemistry Marks=\",Chemistry)\n",
        "math=[int(i) for i in Maths]\n",
        "physics=[int(i) for i in Physics]\n",
        "chemistry=[int(i) for i in Chemistry]\n"
      ],
      "metadata": {
        "colab": {
          "base_uri": "https://localhost:8080/"
        },
        "id": "kDOXxhZR2mq8",
        "outputId": "ac7e1e58-408f-4fd1-c3ca-11ed3a003ce3"
      },
      "execution_count": null,
      "outputs": [
        {
          "output_type": "stream",
          "name": "stdout",
          "text": [
            "Math Marks= ['55', '75', '25', '78', '58', '88', '56', '54', '46', '89']\n",
            "Phyics Marks= ['45', '55', '54', '55', '96', '78', '89', '55', '66', '87']\n",
            "Chemistry Marks= ['56', '55', '89', '86', '78', '58', '69', '88', '65', '54']\n"
          ]
        }
      ]
    },
    {
      "cell_type": "code",
      "source": [
        "sum_of_marks=[]\n",
        "avg=[]\n",
        "for i in range(len(math)):\n",
        "    sum_of_marks.append(math[i]+physics[i]+chemistry[i])\n",
        "    avg.append(round(sum_of_marks[i],2))\n",
        "print(\"Sum of Marks=\",sum_of_marks)\n",
        "print(\"Average Marks=\",avg)"
      ],
      "metadata": {
        "colab": {
          "base_uri": "https://localhost:8080/"
        },
        "id": "jx7WKFWN22mM",
        "outputId": "9740ec72-de5d-4720-9d4e-20d302e38dae"
      },
      "execution_count": null,
      "outputs": [
        {
          "output_type": "stream",
          "name": "stdout",
          "text": [
            "Sum of Marks= [156, 185, 168, 219, 232, 224, 214, 197, 177, 230]\n",
            "Average Marks= [156, 185, 168, 219, 232, 224, 214, 197, 177, 230]\n"
          ]
        }
      ]
    },
    {
      "cell_type": "code",
      "source": [
        "print(\"Maximum Marks=\",min(avg))"
      ],
      "metadata": {
        "colab": {
          "base_uri": "https://localhost:8080/"
        },
        "id": "E6BIA0TQ2648",
        "outputId": "41f31880-08fa-47ef-fc5f-3fb231dafc3d"
      },
      "execution_count": null,
      "outputs": [
        {
          "output_type": "stream",
          "name": "stdout",
          "text": [
            "Maximum Marks= 156\n"
          ]
        }
      ]
    },
    {
      "cell_type": "code",
      "source": [
        "print(\"Total No of Student=\",len(studentdata[0]))"
      ],
      "metadata": {
        "colab": {
          "base_uri": "https://localhost:8080/"
        },
        "id": "XWa5PHWN3ILt",
        "outputId": "46bd68b8-318d-4683-8a4f-400962a258c2"
      },
      "execution_count": null,
      "outputs": [
        {
          "output_type": "stream",
          "name": "stdout",
          "text": [
            "Total No of Student= 10\n"
          ]
        }
      ]
    },
    {
      "cell_type": "code",
      "source": [
        "per=[]\n",
        "for i in range(len(sum_of_marks)):\n",
        "    per.append(round((100*sum_of_marks[i]/270),2))\n",
        "print(\"Percentage=\",per)\n"
      ],
      "metadata": {
        "id": "ZB-Lp--l3OUt",
        "outputId": "614533cc-6133-4006-d44b-c8c5971ecd43",
        "colab": {
          "base_uri": "https://localhost:8080/"
        }
      },
      "execution_count": null,
      "outputs": [
        {
          "output_type": "stream",
          "name": "stdout",
          "text": [
            "Percentage= [57.78, 68.52, 62.22, 81.11, 85.93, 82.96, 79.26, 72.96, 65.56, 85.19]\n"
          ]
        }
      ]
    }
  ]
}
