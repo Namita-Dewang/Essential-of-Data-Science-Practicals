{
  "nbformat": 4,
  "nbformat_minor": 0,
  "metadata": {
    "colab": {
      "provenance": []
    },
    "kernelspec": {
      "name": "python3",
      "display_name": "Python 3"
    },
    "language_info": {
      "name": "python"
    }
  },
  "cells": [
    {
      "cell_type": "code",
      "execution_count": null,
      "metadata": {
        "id": "TNbbky-Sj-BK",
        "colab": {
          "base_uri": "https://localhost:8080/"
        },
        "outputId": "796fa213-f949-4289-d608-d9ed06dde8b4"
      },
      "outputs": [
        {
          "output_type": "stream",
          "name": "stdout",
          "text": [
            "Mounted at /content/drive\n"
          ]
        }
      ],
      "source": [
        "from google.colab import drive\n",
        "drive.mount('/content/drive')"
      ]
    },
    {
      "cell_type": "code",
      "source": [
        "import numpy as np\n",
        "array1=np.array([[1,2,3],[4,5,6],[7,8,9]])\n",
        "array1\n",
        "\n"
      ],
      "metadata": {
        "id": "o3zOF841kmBC",
        "colab": {
          "base_uri": "https://localhost:8080/"
        },
        "outputId": "f9809efa-c0fb-4fef-af0b-6e6675a8514c"
      },
      "execution_count": null,
      "outputs": [
        {
          "output_type": "execute_result",
          "data": {
            "text/plain": [
              "array([[1, 2, 3],\n",
              "       [4, 5, 6],\n",
              "       [7, 8, 9]])"
            ]
          },
          "metadata": {},
          "execution_count": 3
        }
      ]
    },
    {
      "cell_type": "code",
      "source": [
        "array2=np.array([[11,12,13],[14,15,16],[17,18,19]])\n",
        "array2"
      ],
      "metadata": {
        "id": "YrAshAas8QXS",
        "colab": {
          "base_uri": "https://localhost:8080/"
        },
        "outputId": "282c3a1e-c07d-4692-8d93-4a24d4c8aa08"
      },
      "execution_count": null,
      "outputs": [
        {
          "output_type": "execute_result",
          "data": {
            "text/plain": [
              "array([[11, 12, 13],\n",
              "       [14, 15, 16],\n",
              "       [17, 18, 19]])"
            ]
          },
          "metadata": {},
          "execution_count": 5
        }
      ]
    },
    {
      "cell_type": "markdown",
      "source": [
        "Addition"
      ],
      "metadata": {
        "id": "qnBvF5Ou7DJS"
      }
    },
    {
      "cell_type": "code",
      "source": [
        "resultarray=array1+array2\n",
        "print(\"\\nUsing Operator:\\n\",resultarray)\n",
        "resultarray=np.add(array1,array2)\n",
        "print(\"\\nUsing Numpy Function:\\n\",resultarray)"
      ],
      "metadata": {
        "id": "E53YUQt3iUji",
        "colab": {
          "base_uri": "https://localhost:8080/"
        },
        "outputId": "ffddecdc-75fd-46e8-c7ba-8fb8e735cbd8"
      },
      "execution_count": null,
      "outputs": [
        {
          "output_type": "stream",
          "name": "stdout",
          "text": [
            "\n",
            "Using Operator:\n",
            " [[12 14 16]\n",
            " [18 20 22]\n",
            " [24 26 28]]\n",
            "\n",
            "Using Numpy Function:\n",
            " [[12 14 16]\n",
            " [18 20 22]\n",
            " [24 26 28]]\n"
          ]
        }
      ]
    },
    {
      "cell_type": "markdown",
      "source": [
        "substraction"
      ],
      "metadata": {
        "id": "cVMUTr2Y7XzL"
      }
    },
    {
      "cell_type": "code",
      "source": [
        "resultarray=array1-array2\n",
        "print(\"\\nUsing Operator:\\n\",resultarray)\n",
        "resultarray=np.subtract(array1,array2)\n",
        "print(\"\\nUsing Numpy Function:\\n\",resultarray)"
      ],
      "metadata": {
        "colab": {
          "base_uri": "https://localhost:8080/"
        },
        "id": "csKD9veH7LKv",
        "outputId": "2d636a68-e5d0-4187-864e-934672118b14"
      },
      "execution_count": null,
      "outputs": [
        {
          "output_type": "stream",
          "name": "stdout",
          "text": [
            "\n",
            "Using Operator:\n",
            " [[-10 -10 -10]\n",
            " [-10 -10 -10]\n",
            " [-10 -10 -10]]\n",
            "\n",
            "Using Numpy Function:\n",
            " [[-10 -10 -10]\n",
            " [-10 -10 -10]\n",
            " [-10 -10 -10]]\n"
          ]
        }
      ]
    },
    {
      "cell_type": "markdown",
      "source": [
        "Multipication"
      ],
      "metadata": {
        "id": "5YRt3l6u7sZq"
      }
    },
    {
      "cell_type": "code",
      "source": [
        "resultarray=array1*array2\n",
        "print(\"\\nUsing Operator:\\n\",resultarray)\n",
        "resultarray=np.multiply(array1,array2)\n",
        "print(\"\\nUsing Numpy Function:\\n\",resultarray)"
      ],
      "metadata": {
        "colab": {
          "base_uri": "https://localhost:8080/"
        },
        "id": "kqUlbjAG7uc7",
        "outputId": "77847f7d-6172-4c5d-c7e4-4c1b4efe061d"
      },
      "execution_count": null,
      "outputs": [
        {
          "output_type": "stream",
          "name": "stdout",
          "text": [
            "\n",
            "Using Operator:\n",
            " [[ 11  24  39]\n",
            " [ 56  75  96]\n",
            " [119 144 171]]\n",
            "\n",
            "Using Numpy Function:\n",
            " [[ 11  24  39]\n",
            " [ 56  75  96]\n",
            " [119 144 171]]\n"
          ]
        }
      ]
    },
    {
      "cell_type": "markdown",
      "source": [
        "Division"
      ],
      "metadata": {
        "id": "eP8iDvND7353"
      }
    },
    {
      "cell_type": "code",
      "source": [
        "resultarray=array1/array2\n",
        "print(\"\\nUsing Operator:\\n\",resultarray)\n",
        "resultarray=np.divide(array1,array2)\n",
        "print(\"\\nUsing Numpy Function:\\n\",resultarray)"
      ],
      "metadata": {
        "colab": {
          "base_uri": "https://localhost:8080/"
        },
        "id": "_guu3aIY72PL",
        "outputId": "8b80a1a5-237a-460b-e353-f8a4804f6aaa"
      },
      "execution_count": null,
      "outputs": [
        {
          "output_type": "stream",
          "name": "stdout",
          "text": [
            "\n",
            "Using Operator:\n",
            " [[0.09090909 0.16666667 0.23076923]\n",
            " [0.28571429 0.33333333 0.375     ]\n",
            " [0.41176471 0.44444444 0.47368421]]\n",
            "\n",
            "Using Numpy Function:\n",
            " [[0.09090909 0.16666667 0.23076923]\n",
            " [0.28571429 0.33333333 0.375     ]\n",
            " [0.41176471 0.44444444 0.47368421]]\n"
          ]
        }
      ]
    },
    {
      "cell_type": "markdown",
      "source": [
        "Mod"
      ],
      "metadata": {
        "id": "RXBTcDOC85Mp"
      }
    },
    {
      "cell_type": "code",
      "source": [
        "resultarray=array1%array2\n",
        "print(\"\\nUsing Operator:\\n\",resultarray)\n",
        "resultarray=np.mod(array1,array2)\n",
        "print(\"\\nUsing Numpy Function:\\n\",resultarray)"
      ],
      "metadata": {
        "colab": {
          "base_uri": "https://localhost:8080/"
        },
        "id": "dALKdvX686Go",
        "outputId": "a5c845df-4aaf-4af2-e3f8-324e122f64dc"
      },
      "execution_count": null,
      "outputs": [
        {
          "output_type": "stream",
          "name": "stdout",
          "text": [
            "\n",
            "Using Operator:\n",
            " [[1 2 3]\n",
            " [4 5 6]\n",
            " [7 8 9]]\n",
            "\n",
            "Using Numpy Function:\n",
            " [[1 2 3]\n",
            " [4 5 6]\n",
            " [7 8 9]]\n"
          ]
        }
      ]
    },
    {
      "cell_type": "markdown",
      "source": [
        "Dot product"
      ],
      "metadata": {
        "id": "VufsT3Z39Hhi"
      }
    },
    {
      "cell_type": "code",
      "source": [
        "resultarray=np.dot(array1,array2)\n",
        "print(\"\",resultarray)"
      ],
      "metadata": {
        "colab": {
          "base_uri": "https://localhost:8080/"
        },
        "id": "yxVbTcc28_K4",
        "outputId": "f29b56fc-aabd-41a1-e998-4cb88c98ccf2"
      },
      "execution_count": null,
      "outputs": [
        {
          "output_type": "stream",
          "name": "stdout",
          "text": [
            " [[ 90  96 102]\n",
            " [216 231 246]\n",
            " [342 366 390]]\n"
          ]
        }
      ]
    },
    {
      "cell_type": "markdown",
      "source": [
        "Transpose"
      ],
      "metadata": {
        "id": "nWC3xJGG9aKI"
      }
    },
    {
      "cell_type": "code",
      "source": [
        "resultarray=np.transpose(array1)\n",
        "print(resultarray)\n",
        " #Or\n",
        "resultarray=array1.transpose()\n",
        "print(resultarray)"
      ],
      "metadata": {
        "colab": {
          "base_uri": "https://localhost:8080/"
        },
        "id": "WklTK5ji9KwT",
        "outputId": "ccb7b020-12cf-4dd2-f94d-51a1c98ce192"
      },
      "execution_count": null,
      "outputs": [
        {
          "output_type": "stream",
          "name": "stdout",
          "text": [
            "[[1 4 7]\n",
            " [2 5 8]\n",
            " [3 6 9]]\n",
            "[[1 4 7]\n",
            " [2 5 8]\n",
            " [3 6 9]]\n"
          ]
        }
      ]
    },
    {
      "cell_type": "markdown",
      "source": [
        "Horizontal and vertical stacking of Numpy Arrays\n",
        "\n",
        "1) Horizontal Stacking"
      ],
      "metadata": {
        "id": "fJdUX3py9s95"
      }
    },
    {
      "cell_type": "code",
      "source": [
        "resultarray=np.hstack((array1,array2))\n",
        "resultarray"
      ],
      "metadata": {
        "colab": {
          "base_uri": "https://localhost:8080/"
        },
        "id": "sDSoZsnQ9cKT",
        "outputId": "4a51b9aa-5925-4d4b-8681-d0de8fd74785"
      },
      "execution_count": null,
      "outputs": [
        {
          "output_type": "execute_result",
          "data": {
            "text/plain": [
              "array([[ 1,  2,  3, 11, 12, 13],\n",
              "       [ 4,  5,  6, 14, 15, 16],\n",
              "       [ 7,  8,  9, 17, 18, 19]])"
            ]
          },
          "metadata": {},
          "execution_count": 16
        }
      ]
    },
    {
      "cell_type": "markdown",
      "source": [
        "2)Vertical Stacking"
      ],
      "metadata": {
        "id": "X6dMRY-t-CHO"
      }
    },
    {
      "cell_type": "code",
      "source": [
        "ltarray=np.vstack((array1,array2))\n",
        "resultarray"
      ],
      "metadata": {
        "colab": {
          "base_uri": "https://localhost:8080/"
        },
        "id": "mtzVBM_Z95oQ",
        "outputId": "466d42b6-8fb6-4b89-837b-e0802d7e82fe"
      },
      "execution_count": null,
      "outputs": [
        {
          "output_type": "execute_result",
          "data": {
            "text/plain": [
              "array([[ 1,  2,  3, 11, 12, 13],\n",
              "       [ 4,  5,  6, 14, 15, 16],\n",
              "       [ 7,  8,  9, 17, 18, 19]])"
            ]
          },
          "metadata": {},
          "execution_count": 18
        }
      ]
    },
    {
      "cell_type": "markdown",
      "source": [
        "Custom sequence generation\n",
        "\n",
        "1)Range\n"
      ],
      "metadata": {
        "id": "re_A_gsc-OoP"
      }
    },
    {
      "cell_type": "code",
      "source": [
        "import numpy as np\n",
        "nparray=np.arange(0,12,1).reshape(3,4)\n",
        "nparray"
      ],
      "metadata": {
        "colab": {
          "base_uri": "https://localhost:8080/"
        },
        "id": "Fr3e3qcc-Lq-",
        "outputId": "28f6277c-49e7-4f48-9e6c-3791bc95b6ef"
      },
      "execution_count": null,
      "outputs": [
        {
          "output_type": "execute_result",
          "data": {
            "text/plain": [
              "array([[ 0,  1,  2,  3],\n",
              "       [ 4,  5,  6,  7],\n",
              "       [ 8,  9, 10, 11]])"
            ]
          },
          "metadata": {},
          "execution_count": 20
        }
      ]
    },
    {
      "cell_type": "markdown",
      "source": [
        " 2)Linearly Separable"
      ],
      "metadata": {
        "id": "bmXLX6Ya-1nJ"
      }
    },
    {
      "cell_type": "code",
      "source": [
        "nparray=np.linspace(start=0,stop=24,num=12).reshape(3,4)\n",
        "nparray"
      ],
      "metadata": {
        "colab": {
          "base_uri": "https://localhost:8080/"
        },
        "id": "RV4xLuI0-sJK",
        "outputId": "fd911697-a842-40ce-8a73-8d97f25dd055"
      },
      "execution_count": null,
      "outputs": [
        {
          "output_type": "execute_result",
          "data": {
            "text/plain": [
              "array([[ 0.        ,  2.18181818,  4.36363636,  6.54545455],\n",
              "       [ 8.72727273, 10.90909091, 13.09090909, 15.27272727],\n",
              "       [17.45454545, 19.63636364, 21.81818182, 24.        ]])"
            ]
          },
          "metadata": {},
          "execution_count": 22
        }
      ]
    },
    {
      "cell_type": "markdown",
      "source": [
        "3)Empty Array\n"
      ],
      "metadata": {
        "id": "HlJhAHYJ_HzG"
      }
    },
    {
      "cell_type": "code",
      "source": [
        "nparray=np.empty((3,3),int)\n",
        "nparray"
      ],
      "metadata": {
        "colab": {
          "base_uri": "https://localhost:8080/"
        },
        "id": "iWTV5WXW_A9V",
        "outputId": "21d60c32-e181-4971-e9a6-6144d797422b"
      },
      "execution_count": null,
      "outputs": [
        {
          "output_type": "execute_result",
          "data": {
            "text/plain": [
              "array([[ 90,  96, 102],\n",
              "       [216, 231, 246],\n",
              "       [342, 366, 390]])"
            ]
          },
          "metadata": {},
          "execution_count": 23
        }
      ]
    },
    {
      "cell_type": "markdown",
      "source": [
        "4) Emply Like Some other array\n"
      ],
      "metadata": {
        "id": "R5K_R4gR_T2b"
      }
    },
    {
      "cell_type": "code",
      "source": [
        "nparray=np.empty_like(array1)\n",
        "nparray"
      ],
      "metadata": {
        "colab": {
          "base_uri": "https://localhost:8080/"
        },
        "id": "vbCyQ1G5_MiT",
        "outputId": "42ac6a55-325b-419e-ae9e-ba4d011c0190"
      },
      "execution_count": null,
      "outputs": [
        {
          "output_type": "execute_result",
          "data": {
            "text/plain": [
              "array([[ 90,  96, 102],\n",
              "       [216, 231, 246],\n",
              "       [342, 366, 390]])"
            ]
          },
          "metadata": {},
          "execution_count": 24
        }
      ]
    },
    {
      "cell_type": "markdown",
      "source": [
        "5)Identity Matrix\n"
      ],
      "metadata": {
        "id": "YsT3lZdo_b3B"
      }
    },
    {
      "cell_type": "code",
      "source": [
        "nparray=np.identity(3)\n",
        "nparray"
      ],
      "metadata": {
        "colab": {
          "base_uri": "https://localhost:8080/"
        },
        "id": "nOQ5_Mvq_Xn7",
        "outputId": "6407140d-f56d-435e-df14-3b8304312bd4"
      },
      "execution_count": null,
      "outputs": [
        {
          "output_type": "execute_result",
          "data": {
            "text/plain": [
              "array([[1., 0., 0.],\n",
              "       [0., 1., 0.],\n",
              "       [0., 0., 1.]])"
            ]
          },
          "metadata": {},
          "execution_count": 25
        }
      ]
    },
    {
      "cell_type": "markdown",
      "source": [
        "Arithmetic Operation"
      ],
      "metadata": {
        "id": "NJb8NzCD_sFI"
      }
    },
    {
      "cell_type": "code",
      "source": [
        "array1=np.array([1,2,3,4,5])\n",
        "array2=np.array([11,12,13,14,15])\n",
        "print(array1)\n",
        "print(array2)"
      ],
      "metadata": {
        "colab": {
          "base_uri": "https://localhost:8080/"
        },
        "id": "HI-ng2iW_gOp",
        "outputId": "e424efe7-987b-4b62-eb96-bd2f2e123d5b"
      },
      "execution_count": null,
      "outputs": [
        {
          "output_type": "stream",
          "name": "stdout",
          "text": [
            "[1 2 3 4 5]\n",
            "[11 12 13 14 15]\n"
          ]
        }
      ]
    },
    {
      "cell_type": "code",
      "source": [
        "print(np.add(array1,array2))\n",
        "print(np.subtract(array1,array2))\n",
        "print(np.multiply(array1,array2))\n",
        "print(np.divide(array1,array2))"
      ],
      "metadata": {
        "colab": {
          "base_uri": "https://localhost:8080/"
        },
        "id": "R-hD4oAn_yG0",
        "outputId": "14c56a00-e762-45d6-ec30-9addf4759a83"
      },
      "execution_count": null,
      "outputs": [
        {
          "output_type": "stream",
          "name": "stdout",
          "text": [
            "[12 14 16 18 20]\n",
            "[-10 -10 -10 -10 -10]\n",
            "[11 24 39 56 75]\n",
            "[0.09090909 0.16666667 0.23076923 0.28571429 0.33333333]\n"
          ]
        }
      ]
    },
    {
      "cell_type": "markdown",
      "source": [
        "Statistical and Mathematical Operations"
      ],
      "metadata": {
        "id": "Uklfr9XaARCW"
      }
    },
    {
      "cell_type": "code",
      "source": [
        "array1=np.array([1,2,3,4,5,9,6,7,8,9,9])\n",
        "# Standard Deviation\n",
        "print(np.std(array1))\n",
        "#Minimum\n",
        "print(np.min(array1))\n",
        "#Summation\n",
        "print(np.sum(array1))\n",
        "#Median\n",
        "print(np.median(array1))\n",
        "#Mean\n",
        "print(np.mean(array1))\n",
        "#Mode\n",
        "from scipy import stats\n",
        "print(\"Most Frequent element=\",stats.mode(array1)[0])\n",
        "print(\"Number of Occarances=\",stats.mode(array1)[1])\n",
        "# Variance\n",
        "print(np.var(array1))"
      ],
      "metadata": {
        "colab": {
          "base_uri": "https://localhost:8080/"
        },
        "id": "CwH-dFQrAE-0",
        "outputId": "1b2858f5-8019-40df-9e17-535df1812ff6"
      },
      "execution_count": null,
      "outputs": [
        {
          "output_type": "stream",
          "name": "stdout",
          "text": [
            "2.7990553306073913\n",
            "1\n",
            "63\n",
            "6.0\n",
            "5.7272727272727275\n",
            "Most Frequent element= [9]\n",
            "Number of Occarances= [3]\n",
            "7.834710743801653\n"
          ]
        },
        {
          "output_type": "stream",
          "name": "stderr",
          "text": [
            "<ipython-input-29-9bff0bdd894b>:14: FutureWarning: Unlike other reduction functions (e.g. `skew`, `kurtosis`), the default behavior of `mode` typically preserves the axis it acts along. In SciPy 1.11.0, this behavior will change: the default value of `keepdims` will become False, the `axis` over which the statistic is taken will be eliminated, and the value None will no longer be accepted. Set `keepdims` to True or False to avoid this warning.\n",
            "  print(\"Most Frequent element=\",stats.mode(array1)[0])\n",
            "<ipython-input-29-9bff0bdd894b>:15: FutureWarning: Unlike other reduction functions (e.g. `skew`, `kurtosis`), the default behavior of `mode` typically preserves the axis it acts along. In SciPy 1.11.0, this behavior will change: the default value of `keepdims` will become False, the `axis` over which the statistic is taken will be eliminated, and the value None will no longer be accepted. Set `keepdims` to True or False to avoid this warning.\n",
            "  print(\"Number of Occarances=\",stats.mode(array1)[1])\n"
          ]
        }
      ]
    },
    {
      "cell_type": "markdown",
      "source": [
        "Bitwise Operation"
      ],
      "metadata": {
        "id": "f1nstcCdA6bb"
      }
    },
    {
      "cell_type": "code",
      "source": [
        "array1=np.array([1,2,3],dtype=np.uint8)\n",
        "array2=np.array([4,5,6])\n",
        "# AND\n",
        "resultarray=np.bitwise_and(array1,array2)\n",
        "print(resultarray)\n",
        "# OR\n",
        "resultarray=np.bitwise_or(array1,array2)\n",
        "print(resultarray)\n",
        "#LeftShift\n",
        "resultarray=np.left_shift(array1,2)\n",
        "print(resultarray)\n",
        "#RightShift\n",
        "resultarray=np.right_shift(array1,2)\n",
        "print(resultarray)"
      ],
      "metadata": {
        "colab": {
          "base_uri": "https://localhost:8080/"
        },
        "id": "rN0d-6RNAwXn",
        "outputId": "b1706d4b-6085-430e-a813-dd5a60129dfd"
      },
      "execution_count": null,
      "outputs": [
        {
          "output_type": "stream",
          "name": "stdout",
          "text": [
            "[0 0 2]\n",
            "[5 7 7]\n",
            "[ 4  8 12]\n",
            "[0 0 0]\n"
          ]
        }
      ]
    },
    {
      "cell_type": "code",
      "source": [
        "### You can get Binary Representation of Number\n",
        "print(np.binary_repr(10,8))\n",
        "resultarray=np.left_shift(10,2)\n",
        "print(resultarray)\n",
        "print(np.binary_repr(np.left_shift(10,2),8))"
      ],
      "metadata": {
        "colab": {
          "base_uri": "https://localhost:8080/"
        },
        "id": "KFK1oxRvBKZq",
        "outputId": "726cdb9e-2f5d-419c-e8be-e9f76d7fccfe"
      },
      "execution_count": null,
      "outputs": [
        {
          "output_type": "stream",
          "name": "stdout",
          "text": [
            "00001010\n",
            "40\n",
            "00101000\n"
          ]
        }
      ]
    },
    {
      "cell_type": "markdown",
      "source": [
        ".Copying and viewing arrays"
      ],
      "metadata": {
        "id": "xMFEuys-BZTg"
      }
    },
    {
      "cell_type": "code",
      "source": [
        "#Copy\n",
        "array1=np.arange(1,10)\n",
        "print(array1)\n",
        "newarray=array1.copy()\n",
        "print(newarray)\n",
        "array1[0]=100\n",
        "print(array1)\n",
        "print(newarray)"
      ],
      "metadata": {
        "colab": {
          "base_uri": "https://localhost:8080/"
        },
        "id": "pjIkFG_yBSWK",
        "outputId": "70c5a6fd-eb58-4fc0-a6b3-976188acdd06"
      },
      "execution_count": null,
      "outputs": [
        {
          "output_type": "stream",
          "name": "stdout",
          "text": [
            "[1 2 3 4 5 6 7 8 9]\n",
            "[1 2 3 4 5 6 7 8 9]\n",
            "[100   2   3   4   5   6   7   8   9]\n",
            "[1 2 3 4 5 6 7 8 9]\n"
          ]
        }
      ]
    },
    {
      "cell_type": "code",
      "source": [
        "#View\n",
        "array1=np.arange(1,10)\n",
        "print(array1)\n",
        "newarray=array1.view()\n",
        "print(newarray)\n",
        "array1[0]=100\n",
        "print(array1)\n",
        "print(newarray)"
      ],
      "metadata": {
        "colab": {
          "base_uri": "https://localhost:8080/"
        },
        "id": "1RzMHM19Bpsx",
        "outputId": "fc85ac9c-088d-41ad-da31-85abb1ef23e8"
      },
      "execution_count": null,
      "outputs": [
        {
          "output_type": "stream",
          "name": "stdout",
          "text": [
            "[1 2 3 4 5 6 7 8 9]\n",
            "[1 2 3 4 5 6 7 8 9]\n",
            "[100   2   3   4   5   6   7   8   9]\n",
            "[100   2   3   4   5   6   7   8   9]\n"
          ]
        }
      ]
    },
    {
      "cell_type": "markdown",
      "source": [
        "Searching"
      ],
      "metadata": {
        "id": "NWB5OWLiB2PV"
      }
    },
    {
      "cell_type": "code",
      "source": [
        "array1=np.array([[1,2,3,12,5,7],[94,5,6,7,89,44],[7,8,9,11,13,14]])\n",
        "print(array1)"
      ],
      "metadata": {
        "colab": {
          "base_uri": "https://localhost:8080/"
        },
        "id": "rceW5fleBw1y",
        "outputId": "56e9735b-0a15-48a5-fcab-c66addf462dc"
      },
      "execution_count": null,
      "outputs": [
        {
          "output_type": "stream",
          "name": "stdout",
          "text": [
            "[[ 1  2  3 12  5  7]\n",
            " [94  5  6  7 89 44]\n",
            " [ 7  8  9 11 13 14]]\n"
          ]
        }
      ]
    },
    {
      "cell_type": "code",
      "source": [
        "np.sort(array1,axis=0)"
      ],
      "metadata": {
        "colab": {
          "base_uri": "https://localhost:8080/"
        },
        "id": "yU1PZr8QB6N9",
        "outputId": "29177ffd-7ca7-43a4-92e9-e3889ea7ea3d"
      },
      "execution_count": null,
      "outputs": [
        {
          "output_type": "execute_result",
          "data": {
            "text/plain": [
              "array([[ 1,  2,  3,  7,  5,  7],\n",
              "       [ 7,  5,  6, 11, 13, 14],\n",
              "       [94,  8,  9, 12, 89, 44]])"
            ]
          },
          "metadata": {},
          "execution_count": 36
        }
      ]
    },
    {
      "cell_type": "code",
      "source": [
        "np.sort(array1,axis=1)"
      ],
      "metadata": {
        "colab": {
          "base_uri": "https://localhost:8080/"
        },
        "id": "6twuU5p_B8-9",
        "outputId": "2dc28cdb-136b-4072-bc88-273af0ffb5b7"
      },
      "execution_count": null,
      "outputs": [
        {
          "output_type": "execute_result",
          "data": {
            "text/plain": [
              "array([[ 1,  2,  3,  5,  7, 12],\n",
              "       [ 5,  6,  7, 44, 89, 94],\n",
              "       [ 7,  8,  9, 11, 13, 14]])"
            ]
          },
          "metadata": {},
          "execution_count": 37
        }
      ]
    },
    {
      "cell_type": "code",
      "source": [
        "# Searching//check it once\n",
        "array1=np.array([1,2,3,12,5,7]),np.searchsorted(array1,7,side=\"left\")"
      ],
      "metadata": {
        "id": "qTdumXyOCAX0"
      },
      "execution_count": null,
      "outputs": []
    },
    {
      "cell_type": "code",
      "source": [
        "#Counting\n",
        "array1=np.array([1,2,3,12,5,7,0])\n",
        "print(np.count_nonzero(array1))\n",
        "print(np.nonzero(array1))\n",
        "print(array1.size)"
      ],
      "metadata": {
        "colab": {
          "base_uri": "https://localhost:8080/"
        },
        "id": "-ZIrOM8TCmPB",
        "outputId": "16ffced2-7336-461b-ca1e-b13f5af1424f"
      },
      "execution_count": null,
      "outputs": [
        {
          "output_type": "stream",
          "name": "stdout",
          "text": [
            "6\n",
            "(array([0, 1, 2, 3, 4, 5]),)\n",
            "7\n"
          ]
        }
      ]
    },
    {
      "cell_type": "markdown",
      "source": [
        "Data Stackinng\n"
      ],
      "metadata": {
        "id": "g1fppGa2Dcbx"
      }
    },
    {
      "cell_type": "code",
      "source": [
        "array1=np.array(np.arange(1,5).reshape(2,2))\n",
        "print(array1)\n",
        "array2=np.array(np.arange(11,15).reshape(2,2))\n",
        "print(array2)"
      ],
      "metadata": {
        "colab": {
          "base_uri": "https://localhost:8080/"
        },
        "id": "-v4QD3HTC101",
        "outputId": "cc811011-c055-416c-ca4c-2d34fbf2ebb5"
      },
      "execution_count": null,
      "outputs": [
        {
          "output_type": "stream",
          "name": "stdout",
          "text": [
            "[[1 2]\n",
            " [3 4]]\n",
            "[[11 12]\n",
            " [13 14]]\n"
          ]
        }
      ]
    },
    {
      "cell_type": "code",
      "source": [
        "newarray=np.stack([array1,array2],axis=0)\n",
        "print(newarray)"
      ],
      "metadata": {
        "colab": {
          "base_uri": "https://localhost:8080/"
        },
        "id": "J5KIFWwFDfaC",
        "outputId": "530f49ac-a679-488c-f6b2-2385810b236a"
      },
      "execution_count": null,
      "outputs": [
        {
          "output_type": "stream",
          "name": "stdout",
          "text": [
            "[[[ 1  2]\n",
            "  [ 3  4]]\n",
            "\n",
            " [[11 12]\n",
            "  [13 14]]]\n"
          ]
        }
      ]
    },
    {
      "cell_type": "markdown",
      "source": [
        " Append\n"
      ],
      "metadata": {
        "id": "6WKh2chSDuQk"
      }
    },
    {
      "cell_type": "code",
      "source": [
        " array1=np.arange(1,10).reshape(3,3)\n",
        "print(array1)\n",
        "array2=np.arange(21,30).reshape(3,3)\n",
        "print(array2)"
      ],
      "metadata": {
        "colab": {
          "base_uri": "https://localhost:8080/"
        },
        "id": "rPXaOyO-Dn4z",
        "outputId": "7aaf84ce-38ff-4d54-ccdb-a4eed9df59e1"
      },
      "execution_count": null,
      "outputs": [
        {
          "output_type": "stream",
          "name": "stdout",
          "text": [
            "[[1 2 3]\n",
            " [4 5 6]\n",
            " [7 8 9]]\n",
            "[[21 22 23]\n",
            " [24 25 26]\n",
            " [27 28 29]]\n"
          ]
        }
      ]
    },
    {
      "cell_type": "code",
      "source": [
        "np.append(array1,array2,axis=0)"
      ],
      "metadata": {
        "colab": {
          "base_uri": "https://localhost:8080/"
        },
        "id": "VA3y07J8Dxdq",
        "outputId": "44b602f9-8a79-42cd-8ab9-5137e7f1b1c5"
      },
      "execution_count": null,
      "outputs": [
        {
          "output_type": "execute_result",
          "data": {
            "text/plain": [
              "array([[ 1,  2,  3],\n",
              "       [ 4,  5,  6],\n",
              "       [ 7,  8,  9],\n",
              "       [21, 22, 23],\n",
              "       [24, 25, 26],\n",
              "       [27, 28, 29]])"
            ]
          },
          "metadata": {},
          "execution_count": 46
        }
      ]
    },
    {
      "cell_type": "code",
      "source": [
        "np.append(array1,array2,axis=1)"
      ],
      "metadata": {
        "colab": {
          "base_uri": "https://localhost:8080/"
        },
        "id": "F47eSN6nD1Up",
        "outputId": "2d2536be-d3d6-4ee5-eac5-cc9f32278074"
      },
      "execution_count": null,
      "outputs": [
        {
          "output_type": "execute_result",
          "data": {
            "text/plain": [
              "array([[ 1,  2,  3, 21, 22, 23],\n",
              "       [ 4,  5,  6, 24, 25, 26],\n",
              "       [ 7,  8,  9, 27, 28, 29]])"
            ]
          },
          "metadata": {},
          "execution_count": 47
        }
      ]
    },
    {
      "cell_type": "code",
      "source": [
        "#Concat\n",
        "array1=np.arange(1,10).reshape(3,3)\n",
        "print(array1)\n",
        "array2=np.arange(21,30).reshape(3,3)\n",
        "print(array2)"
      ],
      "metadata": {
        "colab": {
          "base_uri": "https://localhost:8080/"
        },
        "id": "hlxKXGP4D3zj",
        "outputId": "22a6c08b-7930-4798-bebb-a9b061eea01d"
      },
      "execution_count": null,
      "outputs": [
        {
          "output_type": "stream",
          "name": "stdout",
          "text": [
            "[[1 2 3]\n",
            " [4 5 6]\n",
            " [7 8 9]]\n",
            "[[21 22 23]\n",
            " [24 25 26]\n",
            " [27 28 29]]\n"
          ]
        }
      ]
    },
    {
      "cell_type": "code",
      "source": [
        "np.concatenate((array1,array2),axis=0)"
      ],
      "metadata": {
        "colab": {
          "base_uri": "https://localhost:8080/"
        },
        "id": "k2Jg2NmCEHZI",
        "outputId": "a0c474b6-e7fc-4da0-98e9-2ad6d1f60b89"
      },
      "execution_count": null,
      "outputs": [
        {
          "output_type": "execute_result",
          "data": {
            "text/plain": [
              "array([[ 1,  2,  3],\n",
              "       [ 4,  5,  6],\n",
              "       [ 7,  8,  9],\n",
              "       [21, 22, 23],\n",
              "       [24, 25, 26],\n",
              "       [27, 28, 29]])"
            ]
          },
          "metadata": {},
          "execution_count": 49
        }
      ]
    },
    {
      "cell_type": "code",
      "source": [
        "np.concatenate((array1,array2),axis=1)"
      ],
      "metadata": {
        "colab": {
          "base_uri": "https://localhost:8080/"
        },
        "id": "6qEakwgqENZE",
        "outputId": "0cf81b28-b31d-483e-ff0d-11be400eadbb"
      },
      "execution_count": null,
      "outputs": [
        {
          "output_type": "execute_result",
          "data": {
            "text/plain": [
              "array([[ 1,  2,  3, 21, 22, 23],\n",
              "       [ 4,  5,  6, 24, 25, 26],\n",
              "       [ 7,  8,  9, 27, 28, 29]])"
            ]
          },
          "metadata": {},
          "execution_count": 50
        }
      ]
    },
    {
      "cell_type": "code",
      "source": [],
      "metadata": {
        "id": "th_qFueHERi0"
      },
      "execution_count": null,
      "outputs": []
    }
  ]
}
